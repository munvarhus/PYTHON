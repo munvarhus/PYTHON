{
  "nbformat": 4,
  "nbformat_minor": 0,
  "metadata": {
    "colab": {
      "name": "Copy of practice.ipynb",
      "provenance": [],
      "collapsed_sections": [],
      "authorship_tag": "ABX9TyMdF9lUYGSn+VUDS/mI9l/d",
      "include_colab_link": true
    },
    "kernelspec": {
      "name": "python3",
      "display_name": "Python 3"
    }
  },
  "cells": [
    {
      "cell_type": "markdown",
      "metadata": {
        "id": "view-in-github",
        "colab_type": "text"
      },
      "source": [
        "<a href=\"https://colab.research.google.com/github/munvarhus/PYTHON/blob/master/practice.ipynb\" target=\"_parent\"><img src=\"https://colab.research.google.com/assets/colab-badge.svg\" alt=\"Open In Colab\"/></a>"
      ]
    },
    {
      "cell_type": "code",
      "metadata": {
        "id": "c7CgErVBEj3C",
        "colab_type": "code",
        "outputId": "f545833b-4dbe-4607-a4a8-51f22ad4106b",
        "colab": {
          "base_uri": "https://localhost:8080/",
          "height": 51
        }
      },
      "source": [
        "# to check a given year is leap year or not\n",
        "a = int(input(\"enter the year\"))\n",
        "if a%400==0 or (a%100!=0 and a%4 ==0):\n",
        "  print(\"it is an leap year\")\n",
        "else:\n",
        "  print(\"it is not an leap year\")"
      ],
      "execution_count": 0,
      "outputs": [
        {
          "output_type": "stream",
          "text": [
            "enter the year2020\n",
            "it is an leap year\n"
          ],
          "name": "stdout"
        }
      ]
    },
    {
      "cell_type": "markdown",
      "metadata": {
        "id": "wcHoZF0AFtZL",
        "colab_type": "text"
      },
      "source": [
        "# ITERATION \n",
        "- while \n",
        "- for\n",
        "\n",
        "syntax : while boolean_expression:\n",
        "\n",
        "statements\n",
        "\n",
        "increment/decrements"
      ]
    },
    {
      "cell_type": "code",
      "metadata": {
        "id": "v7ybaA8WGFpY",
        "colab_type": "code",
        "outputId": "4b1bbc24-419e-4e32-8486-303e5c7f2efd",
        "colab": {
          "base_uri": "https://localhost:8080/",
          "height": 102
        }
      },
      "source": [
        "# print JNTUA for 5 times\n",
        "i=1\n",
        "while i<=5:\n",
        "  print(\"JNTUA\")\n",
        "  i=i+1\n"
      ],
      "execution_count": 0,
      "outputs": [
        {
          "output_type": "stream",
          "text": [
            "JNTUA\n",
            "JNTUA\n",
            "JNTUA\n",
            "JNTUA\n",
            "JNTUA\n"
          ],
          "name": "stdout"
        }
      ]
    },
    {
      "cell_type": "code",
      "metadata": {
        "id": "w3CW5-07GtoH",
        "colab_type": "code",
        "outputId": "90ad47d8-caed-4428-82a9-d21b8d4ac047",
        "colab": {
          "base_uri": "https://localhost:8080/",
          "height": 51
        }
      },
      "source": [
        "#print n natural numbers using while loop\n",
        "n=int(input(\"enter the n value\"))\n",
        "i=1;\n",
        "while(i<=n):\n",
        "  print(i,end=\" \")\n",
        "  i=i+1\n"
      ],
      "execution_count": 0,
      "outputs": [
        {
          "output_type": "stream",
          "text": [
            "enter the n value5\n",
            "1 2 3 4 5 "
          ],
          "name": "stdout"
        }
      ]
    },
    {
      "cell_type": "code",
      "metadata": {
        "id": "_fF8V47lIFIX",
        "colab_type": "code",
        "outputId": "ae12f916-ac1a-44a7-a2c5-e155a8532ebb",
        "colab": {
          "base_uri": "https://localhost:8080/",
          "height": 51
        }
      },
      "source": [
        "# add only even numbers between 1 and n \n",
        "n=int(input(\"enter the n value\"))\n",
        "i=1\n",
        "sum=0\n",
        "while i<=n :\n",
        "  if i%2==0:\n",
        "    sum=sum+i\n",
        "  i=i+1\n",
        "print(sum)"
      ],
      "execution_count": 0,
      "outputs": [
        {
          "output_type": "stream",
          "text": [
            "enter the n value6\n",
            "12\n"
          ],
          "name": "stdout"
        }
      ]
    },
    {
      "cell_type": "code",
      "metadata": {
        "id": "XqHgqKnlI8cf",
        "colab_type": "code",
        "outputId": "5af24260-e9dd-4964-ed72-2e5b2139d1d2",
        "colab": {
          "base_uri": "https://localhost:8080/",
          "height": 51
        }
      },
      "source": [
        "# print the digits of given number\n",
        "n=int(input(\"enter the n value\"))\n",
        "while n!=0:\n",
        "  k = n%10\n",
        "  print(k,end=\" \")\n",
        "  n=n//10"
      ],
      "execution_count": 0,
      "outputs": [
        {
          "output_type": "stream",
          "text": [
            "enter the n value123\n",
            "3 2 1 "
          ],
          "name": "stdout"
        }
      ]
    },
    {
      "cell_type": "markdown",
      "metadata": {
        "id": "TOjKzR2EKJXg",
        "colab_type": "text"
      },
      "source": [
        "# FUNCTIONAL PROGRAMMING\n"
      ]
    },
    {
      "cell_type": "markdown",
      "metadata": {
        "id": "tf2c8s2sKR5L",
        "colab_type": "text"
      },
      "source": [
        "syntax:\n",
        "\n",
        "def nameoffunction(<parameters>):\n",
        "\n",
        " statement\n",
        " \n",
        " return"
      ]
    },
    {
      "cell_type": "code",
      "metadata": {
        "id": "b0NHje60KdYb",
        "colab_type": "code",
        "outputId": "0b2d1421-e3b0-4d9b-d9f5-c42c30c2e00d",
        "colab": {
          "base_uri": "https://localhost:8080/",
          "height": 51
        }
      },
      "source": [
        "# function to read number and sum the even digits of a number\n",
        "def add(n):\n",
        "  sum=0\n",
        "  while n!=0:\n",
        "    k=n%10\n",
        "    if(k%2==0):\n",
        "      sum=sum+k\n",
        "    n=n//10\n",
        "  return sum\n",
        "n=int(input(\"enter the n value\"))\n",
        "add(n)"
      ],
      "execution_count": 0,
      "outputs": [
        {
          "output_type": "stream",
          "text": [
            "enter the n value4567\n"
          ],
          "name": "stdout"
        },
        {
          "output_type": "execute_result",
          "data": {
            "text/plain": [
              "10"
            ]
          },
          "metadata": {
            "tags": []
          },
          "execution_count": 18
        }
      ]
    },
    {
      "cell_type": "code",
      "metadata": {
        "id": "OPuaa8xpMXS_",
        "colab_type": "code",
        "outputId": "8222f115-f8e1-45ff-b4d6-3816938c90a2",
        "colab": {
          "base_uri": "https://localhost:8080/",
          "height": 51
        }
      },
      "source": [
        "#print the large digit of a number\n",
        "def large(n):\n",
        "  s=0\n",
        "  while n!=0:\n",
        "    k=n%10\n",
        "    if s<k:\n",
        "      s=k\n",
        "    n=n//10\n",
        "  return s\n",
        "n=int(input(\"enter the n value\"))\n",
        "large(n)"
      ],
      "execution_count": 0,
      "outputs": [
        {
          "output_type": "stream",
          "text": [
            "enter the n value6789\n"
          ],
          "name": "stdout"
        },
        {
          "output_type": "execute_result",
          "data": {
            "text/plain": [
              "9"
            ]
          },
          "metadata": {
            "tags": []
          },
          "execution_count": 23
        }
      ]
    },
    {
      "cell_type": "code",
      "metadata": {
        "id": "0v37Jw3FNaP5",
        "colab_type": "code",
        "outputId": "9087bf24-f712-4cde-912d-4eb7c0165eaa",
        "colab": {
          "base_uri": "https://localhost:8080/",
          "height": 51
        }
      },
      "source": [
        "#reverse of a given number\n",
        "def reverse(n):\n",
        "  rev=0\n",
        "  while n!=0:\n",
        "    k=n%10\n",
        "    rev=rev*10+k\n",
        "    n=n//10\n",
        "  return rev\n",
        "n=int(input(\"enter the n value\"))\n",
        "reverse(n)"
      ],
      "execution_count": 0,
      "outputs": [
        {
          "output_type": "stream",
          "text": [
            "enter the n value123\n"
          ],
          "name": "stdout"
        },
        {
          "output_type": "execute_result",
          "data": {
            "text/plain": [
              "321"
            ]
          },
          "metadata": {
            "tags": []
          },
          "execution_count": 25
        }
      ]
    },
    {
      "cell_type": "code",
      "metadata": {
        "id": "M5vnFuOtONKn",
        "colab_type": "code",
        "outputId": "8891826b-d8c8-4aa8-e10c-6a5711c26ffc",
        "colab": {
          "base_uri": "https://localhost:8080/",
          "height": 51
        }
      },
      "source": [
        "#to check whether no is palindrome or not\n",
        "def reverse(n):\n",
        "  s=n\n",
        "  rev=0\n",
        "  while n!=0:\n",
        "    k=n%10\n",
        "    rev=rev*10+k\n",
        "    n=n//10\n",
        "  if rev==s:\n",
        "    return \"yes\"\n",
        "  else:\n",
        "    return \"no\"\n",
        "n=int(input(\"enter the n value\"))\n",
        "reverse(n)"
      ],
      "execution_count": 0,
      "outputs": [
        {
          "output_type": "stream",
          "text": [
            "enter the n value121\n"
          ],
          "name": "stdout"
        },
        {
          "output_type": "execute_result",
          "data": {
            "text/plain": [
              "'yes'"
            ]
          },
          "metadata": {
            "tags": []
          },
          "execution_count": 31
        }
      ]
    },
    {
      "cell_type": "code",
      "metadata": {
        "id": "3J7mmUzWRdxN",
        "colab_type": "code",
        "outputId": "b97922ac-378d-49cf-87f3-7839249dc53c",
        "colab": {
          "base_uri": "https://localhost:8080/",
          "height": 51
        }
      },
      "source": [
        "# function to print n natural numbers using for loop\n",
        "def pn(n):\n",
        "  for x in range(1,n+1):\n",
        "    print(x,end=\" \")\n",
        "  return\n",
        "n=int(input(\"entre the n value\"))\n",
        "pn(n)"
      ],
      "execution_count": 0,
      "outputs": [
        {
          "output_type": "stream",
          "text": [
            "entre the n value10\n",
            "1 2 3 4 5 6 7 8 9 10 "
          ],
          "name": "stdout"
        }
      ]
    },
    {
      "cell_type": "code",
      "metadata": {
        "id": "34wdnmWOSP3X",
        "colab_type": "code",
        "outputId": "55cb17cf-b65b-45f0-ac95-6731b016da94",
        "colab": {
          "base_uri": "https://localhost:8080/",
          "height": 68
        }
      },
      "source": [
        "# function to print numbers between two limits\n",
        "def lim(m,s):\n",
        "  for x in range(m,s+1):\n",
        "    print(x,end=\" \")\n",
        "  return\n",
        "m=int(input(\"entre the starting value\"))\n",
        "s=int(input(\"entre the ending value\"))\n",
        "lim(m,s)"
      ],
      "execution_count": 0,
      "outputs": [
        {
          "output_type": "stream",
          "text": [
            "entre the starting value11\n",
            "entre the ending value25\n",
            "11 12 13 14 15 16 17 18 19 20 21 22 23 24 25 "
          ],
          "name": "stdout"
        }
      ]
    },
    {
      "cell_type": "code",
      "metadata": {
        "id": "y1de3cnrTVid",
        "colab_type": "code",
        "outputId": "06440288-d73d-4a9d-cab6-057a03cba1d2",
        "colab": {
          "base_uri": "https://localhost:8080/",
          "height": 68
        }
      },
      "source": [
        "#function to print alternate values\n",
        "def lim(m,s):\n",
        "  for x in range(m,s+1,2):\n",
        "    print(x,end=\" \")\n",
        "  return\n",
        "m=int(input(\"entre the starting value\"))\n",
        "s=int(input(\"entre the ending value\"))\n",
        "lim(m,s)\n"
      ],
      "execution_count": 0,
      "outputs": [
        {
          "output_type": "stream",
          "text": [
            "entre the starting value11\n",
            "entre the ending value15\n",
            "11 13 15 "
          ],
          "name": "stdout"
        }
      ]
    },
    {
      "cell_type": "code",
      "metadata": {
        "id": "mi6jnCJ0UD2Y",
        "colab_type": "code",
        "outputId": "9c16a573-09a3-4703-f1ca-78e09ce770d2",
        "colab": {
          "base_uri": "https://localhost:8080/",
          "height": 51
        }
      },
      "source": [
        "# function to print the numbers in reverse\n",
        "def rev(n):\n",
        "  for x in range(n,0,-1):\n",
        "    print(x,end=\" \")\n",
        "  return\n",
        "n=int(input(\"entre the n value\"))\n",
        "rev(n)"
      ],
      "execution_count": 0,
      "outputs": [
        {
          "output_type": "stream",
          "text": [
            "entre the n value10\n",
            "10 9 8 7 6 5 4 3 2 1 "
          ],
          "name": "stdout"
        }
      ]
    },
    {
      "cell_type": "code",
      "metadata": {
        "id": "6gan0IhKVLr3",
        "colab_type": "code",
        "outputId": "558d6fa4-dba4-4bb5-b1a9-e77fd19597aa",
        "colab": {
          "base_uri": "https://localhost:8080/",
          "height": 51
        }
      },
      "source": [
        "def fact(n):\n",
        "  for x in range(1,n+1):\n",
        "    if n%x==0:\n",
        "      print(x,end=\" \")\n",
        "  return\n",
        "n=int(input(\"entre the n value\"))\n",
        "fact(n)"
      ],
      "execution_count": 0,
      "outputs": [
        {
          "output_type": "stream",
          "text": [
            "entre the n value16\n",
            "1 2 4 8 16 "
          ],
          "name": "stdout"
        }
      ]
    },
    {
      "cell_type": "code",
      "metadata": {
        "id": "mdiDXgGXVuk7",
        "colab_type": "code",
        "outputId": "7b87ce50-6ab4-4bcd-b080-bc5511c71366",
        "colab": {
          "base_uri": "https://localhost:8080/",
          "height": 51
        }
      },
      "source": [
        "# given no is prime no or not\n",
        "def prime(n):\n",
        "  count=0\n",
        "  for x in range(2,n):\n",
        "    if n%x==0:\n",
        "      count=count+1\n",
        "  if count==0:\n",
        "    return \"its a prime\"\n",
        "  else:\n",
        "    return \"its a not prime\"\n",
        "n=int(input(\"enter the n value\"))\n",
        "prime(n)"
      ],
      "execution_count": 0,
      "outputs": [
        {
          "output_type": "stream",
          "text": [
            "enter the n value9\n"
          ],
          "name": "stdout"
        },
        {
          "output_type": "execute_result",
          "data": {
            "text/plain": [
              "'its a not prime'"
            ]
          },
          "metadata": {
            "tags": []
          },
          "execution_count": 47
        }
      ]
    },
    {
      "cell_type": "code",
      "metadata": {
        "id": "8JIPOmtcWu6k",
        "colab_type": "code",
        "outputId": "62c35c90-b821-4bf7-e3eb-cb949fa78c03",
        "colab": {
          "base_uri": "https://localhost:8080/",
          "height": 51
        }
      },
      "source": [
        "# function to print prime numbers between 1 to n\n",
        "def prime(n):\n",
        "  s=0\n",
        "  for x in range(2,n+1):\n",
        "    count=0\n",
        "    for i in range(2,x):\n",
        "      if x%i==0:\n",
        "        count=count+1\n",
        "    if count==0:\n",
        "      s=s+1\n",
        "  return s\n",
        "n=int(input(\"enter the n value\"))\n",
        "prime(n)"
      ],
      "execution_count": 0,
      "outputs": [
        {
          "output_type": "stream",
          "text": [
            "enter the n value10\n"
          ],
          "name": "stdout"
        },
        {
          "output_type": "execute_result",
          "data": {
            "text/plain": [
              "4"
            ]
          },
          "metadata": {
            "tags": []
          },
          "execution_count": 52
        }
      ]
    },
    {
      "cell_type": "code",
      "metadata": {
        "id": "jKcV6yyFZaSf",
        "colab_type": "code",
        "colab": {}
      },
      "source": [
        "# "
      ],
      "execution_count": 0,
      "outputs": []
    }
  ]
}