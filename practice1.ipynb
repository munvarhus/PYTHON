{
  "nbformat": 4,
  "nbformat_minor": 0,
  "metadata": {
    "colab": {
      "name": "practice1.ipynb",
      "provenance": [],
      "collapsed_sections": [],
      "authorship_tag": "ABX9TyOLJFrU31wU1t3nZ/X7aBqV",
      "include_colab_link": true
    },
    "kernelspec": {
      "name": "python3",
      "display_name": "Python 3"
    }
  },
  "cells": [
    {
      "cell_type": "markdown",
      "metadata": {
        "id": "view-in-github",
        "colab_type": "text"
      },
      "source": [
        "<a href=\"https://colab.research.google.com/github/munvarhus/PYTHON/blob/master/practice1.ipynb\" target=\"_parent\"><img src=\"https://colab.research.google.com/assets/colab-badge.svg\" alt=\"Open In Colab\"/></a>"
      ]
    },
    {
      "cell_type": "code",
      "metadata": {
        "id": "c7CgErVBEj3C",
        "colab_type": "code",
        "outputId": "f545833b-4dbe-4607-a4a8-51f22ad4106b",
        "colab": {
          "base_uri": "https://localhost:8080/",
          "height": 51
        }
      },
      "source": [
        "# to check a given year is leap year or not\n",
        "a = int(input(\"enter the year\"))\n",
        "if a%400==0 or (a%100!=0 and a%4 ==0):\n",
        "  print(\"it is an leap year\")\n",
        "else:\n",
        "  print(\"it is not an leap year\")"
      ],
      "execution_count": 0,
      "outputs": [
        {
          "output_type": "stream",
          "text": [
            "enter the year2020\n",
            "it is an leap year\n"
          ],
          "name": "stdout"
        }
      ]
    },
    {
      "cell_type": "markdown",
      "metadata": {
        "id": "wcHoZF0AFtZL",
        "colab_type": "text"
      },
      "source": [
        "# ITERATION \n",
        "- while \n",
        "- for\n",
        "\n",
        "syntax : while boolean_expression:\n",
        "\n",
        "statements\n",
        "\n",
        "increment/decrements"
      ]
    },
    {
      "cell_type": "code",
      "metadata": {
        "id": "v7ybaA8WGFpY",
        "colab_type": "code",
        "outputId": "4b1bbc24-419e-4e32-8486-303e5c7f2efd",
        "colab": {
          "base_uri": "https://localhost:8080/",
          "height": 102
        }
      },
      "source": [
        "# print JNTUA for 5 times\n",
        "i=1\n",
        "while i<=5:\n",
        "  print(\"JNTUA\")\n",
        "  i=i+1\n"
      ],
      "execution_count": 0,
      "outputs": [
        {
          "output_type": "stream",
          "text": [
            "JNTUA\n",
            "JNTUA\n",
            "JNTUA\n",
            "JNTUA\n",
            "JNTUA\n"
          ],
          "name": "stdout"
        }
      ]
    },
    {
      "cell_type": "code",
      "metadata": {
        "id": "w3CW5-07GtoH",
        "colab_type": "code",
        "outputId": "90ad47d8-caed-4428-82a9-d21b8d4ac047",
        "colab": {
          "base_uri": "https://localhost:8080/",
          "height": 51
        }
      },
      "source": [
        "#print n natural numbers using while loop\n",
        "n=int(input(\"enter the n value\"))\n",
        "i=1;\n",
        "while(i<=n):\n",
        "  print(i,end=\" \")\n",
        "  i=i+1\n"
      ],
      "execution_count": 0,
      "outputs": [
        {
          "output_type": "stream",
          "text": [
            "enter the n value5\n",
            "1 2 3 4 5 "
          ],
          "name": "stdout"
        }
      ]
    },
    {
      "cell_type": "code",
      "metadata": {
        "id": "_fF8V47lIFIX",
        "colab_type": "code",
        "outputId": "ae12f916-ac1a-44a7-a2c5-e155a8532ebb",
        "colab": {
          "base_uri": "https://localhost:8080/",
          "height": 51
        }
      },
      "source": [
        "# add only even numbers between 1 and n \n",
        "n=int(input(\"enter the n value\"))\n",
        "i=1\n",
        "sum=0\n",
        "while i<=n :\n",
        "  if i%2==0:\n",
        "    sum=sum+i\n",
        "  i=i+1\n",
        "print(sum)"
      ],
      "execution_count": 0,
      "outputs": [
        {
          "output_type": "stream",
          "text": [
            "enter the n value6\n",
            "12\n"
          ],
          "name": "stdout"
        }
      ]
    },
    {
      "cell_type": "code",
      "metadata": {
        "id": "XqHgqKnlI8cf",
        "colab_type": "code",
        "outputId": "5af24260-e9dd-4964-ed72-2e5b2139d1d2",
        "colab": {
          "base_uri": "https://localhost:8080/",
          "height": 51
        }
      },
      "source": [
        "# print the digits of given number\n",
        "n=int(input(\"enter the n value\"))\n",
        "while n!=0:\n",
        "  k = n%10\n",
        "  print(k,end=\" \")\n",
        "  n=n//10"
      ],
      "execution_count": 0,
      "outputs": [
        {
          "output_type": "stream",
          "text": [
            "enter the n value123\n",
            "3 2 1 "
          ],
          "name": "stdout"
        }
      ]
    },
    {
      "cell_type": "markdown",
      "metadata": {
        "id": "TOjKzR2EKJXg",
        "colab_type": "text"
      },
      "source": [
        "# FUNCTIONAL PROGRAMMING\n"
      ]
    },
    {
      "cell_type": "markdown",
      "metadata": {
        "id": "tf2c8s2sKR5L",
        "colab_type": "text"
      },
      "source": [
        "syntax:\n",
        "\n",
        "def nameoffunction(<parameters>):\n",
        "\n",
        " statement\n",
        " \n",
        " return"
      ]
    },
    {
      "cell_type": "code",
      "metadata": {
        "id": "b0NHje60KdYb",
        "colab_type": "code",
        "outputId": "0b2d1421-e3b0-4d9b-d9f5-c42c30c2e00d",
        "colab": {
          "base_uri": "https://localhost:8080/",
          "height": 51
        }
      },
      "source": [
        "# function to read number and sum the even digits of a number\n",
        "def add(n):\n",
        "  sum=0\n",
        "  while n!=0:\n",
        "    k=n%10\n",
        "    if(k%2==0):\n",
        "      sum=sum+k\n",
        "    n=n//10\n",
        "  return sum\n",
        "n=int(input(\"enter the n value\"))\n",
        "add(n)"
      ],
      "execution_count": 0,
      "outputs": [
        {
          "output_type": "stream",
          "text": [
            "enter the n value4567\n"
          ],
          "name": "stdout"
        },
        {
          "output_type": "execute_result",
          "data": {
            "text/plain": [
              "10"
            ]
          },
          "metadata": {
            "tags": []
          },
          "execution_count": 18
        }
      ]
    },
    {
      "cell_type": "code",
      "metadata": {
        "id": "OPuaa8xpMXS_",
        "colab_type": "code",
        "outputId": "8222f115-f8e1-45ff-b4d6-3816938c90a2",
        "colab": {
          "base_uri": "https://localhost:8080/",
          "height": 51
        }
      },
      "source": [
        "#print the large digit of a number\n",
        "def large(n):\n",
        "  s=0\n",
        "  while n!=0:\n",
        "    k=n%10\n",
        "    if s<k:\n",
        "      s=k\n",
        "    n=n//10\n",
        "  return s\n",
        "n=int(input(\"enter the n value\"))\n",
        "large(n)"
      ],
      "execution_count": 0,
      "outputs": [
        {
          "output_type": "stream",
          "text": [
            "enter the n value6789\n"
          ],
          "name": "stdout"
        },
        {
          "output_type": "execute_result",
          "data": {
            "text/plain": [
              "9"
            ]
          },
          "metadata": {
            "tags": []
          },
          "execution_count": 23
        }
      ]
    },
    {
      "cell_type": "code",
      "metadata": {
        "id": "0v37Jw3FNaP5",
        "colab_type": "code",
        "outputId": "9087bf24-f712-4cde-912d-4eb7c0165eaa",
        "colab": {
          "base_uri": "https://localhost:8080/",
          "height": 51
        }
      },
      "source": [
        "#reverse of a given number\n",
        "def reverse(n):\n",
        "  rev=0\n",
        "  while n!=0:\n",
        "    k=n%10\n",
        "    rev=rev*10+k\n",
        "    n=n//10\n",
        "  return rev\n",
        "n=int(input(\"enter the n value\"))\n",
        "reverse(n)"
      ],
      "execution_count": 0,
      "outputs": [
        {
          "output_type": "stream",
          "text": [
            "enter the n value123\n"
          ],
          "name": "stdout"
        },
        {
          "output_type": "execute_result",
          "data": {
            "text/plain": [
              "321"
            ]
          },
          "metadata": {
            "tags": []
          },
          "execution_count": 25
        }
      ]
    },
    {
      "cell_type": "code",
      "metadata": {
        "id": "M5vnFuOtONKn",
        "colab_type": "code",
        "outputId": "8891826b-d8c8-4aa8-e10c-6a5711c26ffc",
        "colab": {
          "base_uri": "https://localhost:8080/",
          "height": 51
        }
      },
      "source": [
        "#to check whether no is palindrome or not\n",
        "def reverse(n):\n",
        "  s=n\n",
        "  rev=0\n",
        "  while n!=0:\n",
        "    k=n%10\n",
        "    rev=rev*10+k\n",
        "    n=n//10\n",
        "  if rev==s:\n",
        "    return \"yes\"\n",
        "  else:\n",
        "    return \"no\"\n",
        "n=int(input(\"enter the n value\"))\n",
        "reverse(n)"
      ],
      "execution_count": 0,
      "outputs": [
        {
          "output_type": "stream",
          "text": [
            "enter the n value121\n"
          ],
          "name": "stdout"
        },
        {
          "output_type": "execute_result",
          "data": {
            "text/plain": [
              "'yes'"
            ]
          },
          "metadata": {
            "tags": []
          },
          "execution_count": 31
        }
      ]
    },
    {
      "cell_type": "code",
      "metadata": {
        "id": "3J7mmUzWRdxN",
        "colab_type": "code",
        "outputId": "b97922ac-378d-49cf-87f3-7839249dc53c",
        "colab": {
          "base_uri": "https://localhost:8080/",
          "height": 51
        }
      },
      "source": [
        "# function to print n natural numbers using for loop\n",
        "def pn(n):\n",
        "  for x in range(1,n+1):\n",
        "    print(x,end=\" \")\n",
        "  return\n",
        "n=int(input(\"entre the n value\"))\n",
        "pn(n)"
      ],
      "execution_count": 0,
      "outputs": [
        {
          "output_type": "stream",
          "text": [
            "entre the n value10\n",
            "1 2 3 4 5 6 7 8 9 10 "
          ],
          "name": "stdout"
        }
      ]
    },
    {
      "cell_type": "code",
      "metadata": {
        "id": "34wdnmWOSP3X",
        "colab_type": "code",
        "outputId": "55cb17cf-b65b-45f0-ac95-6731b016da94",
        "colab": {
          "base_uri": "https://localhost:8080/",
          "height": 68
        }
      },
      "source": [
        "# function to print numbers between two limits\n",
        "def lim(m,s):\n",
        "  for x in range(m,s+1):\n",
        "    print(x,end=\" \")\n",
        "  return\n",
        "m=int(input(\"entre the starting value\"))\n",
        "s=int(input(\"entre the ending value\"))\n",
        "lim(m,s)"
      ],
      "execution_count": 0,
      "outputs": [
        {
          "output_type": "stream",
          "text": [
            "entre the starting value11\n",
            "entre the ending value25\n",
            "11 12 13 14 15 16 17 18 19 20 21 22 23 24 25 "
          ],
          "name": "stdout"
        }
      ]
    },
    {
      "cell_type": "code",
      "metadata": {
        "id": "y1de3cnrTVid",
        "colab_type": "code",
        "outputId": "06440288-d73d-4a9d-cab6-057a03cba1d2",
        "colab": {
          "base_uri": "https://localhost:8080/",
          "height": 68
        }
      },
      "source": [
        "#function to print alternate values\n",
        "def lim(m,s):\n",
        "  for x in range(m,s+1,2):\n",
        "    print(x,end=\" \")\n",
        "  return\n",
        "m=int(input(\"entre the starting value\"))\n",
        "s=int(input(\"entre the ending value\"))\n",
        "lim(m,s)\n"
      ],
      "execution_count": 0,
      "outputs": [
        {
          "output_type": "stream",
          "text": [
            "entre the starting value11\n",
            "entre the ending value15\n",
            "11 13 15 "
          ],
          "name": "stdout"
        }
      ]
    },
    {
      "cell_type": "code",
      "metadata": {
        "id": "mi6jnCJ0UD2Y",
        "colab_type": "code",
        "outputId": "9c16a573-09a3-4703-f1ca-78e09ce770d2",
        "colab": {
          "base_uri": "https://localhost:8080/",
          "height": 51
        }
      },
      "source": [
        "# function to print the numbers in reverse\n",
        "def rev(n):\n",
        "  for x in range(n,0,-1):\n",
        "    print(x,end=\" \")\n",
        "  return\n",
        "n=int(input(\"entre the n value\"))\n",
        "rev(n)"
      ],
      "execution_count": 0,
      "outputs": [
        {
          "output_type": "stream",
          "text": [
            "entre the n value10\n",
            "10 9 8 7 6 5 4 3 2 1 "
          ],
          "name": "stdout"
        }
      ]
    },
    {
      "cell_type": "code",
      "metadata": {
        "id": "6gan0IhKVLr3",
        "colab_type": "code",
        "outputId": "558d6fa4-dba4-4bb5-b1a9-e77fd19597aa",
        "colab": {
          "base_uri": "https://localhost:8080/",
          "height": 51
        }
      },
      "source": [
        "def fact(n):\n",
        "  for x in range(1,n+1):\n",
        "    if n%x==0:\n",
        "      print(x,end=\" \")\n",
        "  return\n",
        "n=int(input(\"entre the n value\"))\n",
        "fact(n)"
      ],
      "execution_count": 0,
      "outputs": [
        {
          "output_type": "stream",
          "text": [
            "entre the n value16\n",
            "1 2 4 8 16 "
          ],
          "name": "stdout"
        }
      ]
    },
    {
      "cell_type": "code",
      "metadata": {
        "id": "mdiDXgGXVuk7",
        "colab_type": "code",
        "outputId": "7b87ce50-6ab4-4bcd-b080-bc5511c71366",
        "colab": {
          "base_uri": "https://localhost:8080/",
          "height": 51
        }
      },
      "source": [
        "# given no is prime no or not\n",
        "def prime(n):\n",
        "  count=0\n",
        "  for x in range(2,n):\n",
        "    if n%x==0:\n",
        "      count=count+1\n",
        "  if count==0:\n",
        "    return \"its a prime\"\n",
        "  else:\n",
        "    return \"its a not prime\"\n",
        "n=int(input(\"enter the n value\"))\n",
        "prime(n)"
      ],
      "execution_count": 0,
      "outputs": [
        {
          "output_type": "stream",
          "text": [
            "enter the n value9\n"
          ],
          "name": "stdout"
        },
        {
          "output_type": "execute_result",
          "data": {
            "text/plain": [
              "'its a not prime'"
            ]
          },
          "metadata": {
            "tags": []
          },
          "execution_count": 47
        }
      ]
    },
    {
      "cell_type": "code",
      "metadata": {
        "id": "8JIPOmtcWu6k",
        "colab_type": "code",
        "outputId": "62c35c90-b821-4bf7-e3eb-cb949fa78c03",
        "colab": {
          "base_uri": "https://localhost:8080/",
          "height": 51
        }
      },
      "source": [
        "# function to print prime numbers between 1 to n\n",
        "def prime(n):\n",
        "  s=0\n",
        "  for x in range(2,n+1):\n",
        "    count=0\n",
        "    for i in range(2,x):\n",
        "      if x%i==0:\n",
        "        count=count+1\n",
        "    if count==0:\n",
        "      s=s+1\n",
        "  return s\n",
        "n=int(input(\"enter the n value\"))\n",
        "prime(n)"
      ],
      "execution_count": 0,
      "outputs": [
        {
          "output_type": "stream",
          "text": [
            "enter the n value10\n"
          ],
          "name": "stdout"
        },
        {
          "output_type": "execute_result",
          "data": {
            "text/plain": [
              "4"
            ]
          },
          "metadata": {
            "tags": []
          },
          "execution_count": 52
        }
      ]
    },
    {
      "cell_type": "code",
      "metadata": {
        "id": "jKcV6yyFZaSf",
        "colab_type": "code",
        "outputId": "bb78be55-ae5b-4742-a029-aa77b119290a",
        "colab": {
          "base_uri": "https://localhost:8080/",
          "height": 51
        }
      },
      "source": [
        "# individual digit factorial sum is same as original number\n",
        "# input 145 =yes(1!+4!+5!=145)\n",
        "def fact(n):\n",
        "  fac=1\n",
        "  for x in range(1,n+1):\n",
        "    fac=fac*x\n",
        "  return fac\n",
        "def su(n):\n",
        "  sum=0\n",
        "  t=n\n",
        "  while n!=0:\n",
        "    k=n%10\n",
        "    sum=sum+fact(k)\n",
        "    n=n//10\n",
        "  if sum==t:\n",
        "    return \"yes\"\n",
        "  else:\n",
        "    return \"no\"\n",
        "n=int(input(\"enter the n value\"))\n",
        "su(n)\n",
        "  "
      ],
      "execution_count": 0,
      "outputs": [
        {
          "output_type": "stream",
          "text": [
            "enter the n value145\n"
          ],
          "name": "stdout"
        },
        {
          "output_type": "execute_result",
          "data": {
            "text/plain": [
              "'yes'"
            ]
          },
          "metadata": {
            "tags": []
          },
          "execution_count": 2
        }
      ]
    },
    {
      "cell_type": "code",
      "metadata": {
        "id": "lsTbf2p2N2-H",
        "colab_type": "code",
        "outputId": "44d5f33e-2d1c-4961-b09e-3d73e5380e33",
        "colab": {
          "base_uri": "https://localhost:8080/",
          "height": 68
        }
      },
      "source": [
        "# function to return the count of palindromes between two limits\n",
        "# input 11 100\n",
        "# output 9(11,22,33,44,55,66,77,88,99)\n",
        "def fun(n,m):\n",
        "  count=0\n",
        "  for x in range(n,m+1):\n",
        "    s=fac(x)\n",
        "    if s==\"yes\":\n",
        "      count=count+1\n",
        "    \n",
        "  return count\n",
        "def fac(l):\n",
        "  t=l\n",
        "  sum=0\n",
        "  while l!=0:\n",
        "    k=l%10\n",
        "    sum=sum*10+k\n",
        "    l=l//10\n",
        "  if t==sum:\n",
        "    return 'yes'\n",
        "  else:\n",
        "    return 'no'\n",
        "n=int(input(\"entre the n value\"))\n",
        "m=int(input(\"enter the m value\"))\n",
        "fun(n,m)"
      ],
      "execution_count": 0,
      "outputs": [
        {
          "output_type": "stream",
          "text": [
            "entre the n value11\n",
            "enter the m value100\n"
          ],
          "name": "stdout"
        },
        {
          "output_type": "execute_result",
          "data": {
            "text/plain": [
              "9"
            ]
          },
          "metadata": {
            "tags": []
          },
          "execution_count": 3
        }
      ]
    },
    {
      "cell_type": "code",
      "metadata": {
        "id": "JVZN6Il9P2Rm",
        "colab_type": "code",
        "outputId": "3cfa0009-0ba3-47bf-f005-40da5b41e430",
        "colab": {
          "base_uri": "https://localhost:8080/",
          "height": 68
        }
      },
      "source": [
        "# function to generate perfect numbers in a range\n",
        "# input 1 10\n",
        "# output 6\n",
        "def fac(s):\n",
        "  sum=0\n",
        "  for i in range(1,s):\n",
        "    if s%i==0:\n",
        "      sum=sum+i\n",
        "  if sum == s:\n",
        "    print(s)\n",
        "  return \n",
        "def fun(n,m):\n",
        "  for x in range(n,m+1):\n",
        "    fac(x)\n",
        "  return \n",
        "n=int(input(\"entre the n value\"))\n",
        "m=int(input(\"enter the m value\"))\n",
        "fun(n,m)\n"
      ],
      "execution_count": 0,
      "outputs": [
        {
          "output_type": "stream",
          "text": [
            "entre the n value1\n",
            "enter the m value10\n",
            "6\n"
          ],
          "name": "stdout"
        }
      ]
    },
    {
      "cell_type": "markdown",
      "metadata": {
        "id": "lviwpog9SdfD",
        "colab_type": "text"
      },
      "source": [
        "# PROGRAMMING IN PYTHON(STRINGS)"
      ]
    },
    {
      "cell_type": "code",
      "metadata": {
        "id": "1MtLIuW7Sgqh",
        "colab_type": "code",
        "outputId": "06876226-6794-4284-f022-b3b3a07c81b1",
        "colab": {
          "base_uri": "https://localhost:8080/",
          "height": 34
        }
      },
      "source": [
        "# strings index starts from 0\n",
        "# st[0:2] means we are accesing the exlements whose indexes starts from and end at 1 but not 2\n",
        "# st[:2] means the same meaning as above\n",
        "# st[::-2] displays the values of indexes starting from -1 with increment of -2\n",
        "def fun(str):\n",
        "  return str[-1::-1]\n",
        "fun(\"munvar\")"
      ],
      "execution_count": 0,
      "outputs": [
        {
          "output_type": "execute_result",
          "data": {
            "text/plain": [
              "'ravnum'"
            ]
          },
          "metadata": {
            "tags": []
          },
          "execution_count": 9
        }
      ]
    },
    {
      "cell_type": "code",
      "metadata": {
        "id": "xB3DNWWxWce8",
        "colab_type": "code",
        "outputId": "85a0c192-1cc4-4c2c-e4ff-4b7f3f17faac",
        "colab": {
          "base_uri": "https://localhost:8080/",
          "height": 51
        }
      },
      "source": [
        "# program to check whether given string is palindrome or not\n",
        "def fac(str):\n",
        "  if str == str[-1::-1]:\n",
        "    return \"true\"\n",
        "  else:\n",
        "    return \"false\"\n",
        "  return\n",
        "n=str(input(\"entre the string\"))\n",
        "fac(n)"
      ],
      "execution_count": 0,
      "outputs": [
        {
          "output_type": "stream",
          "text": [
            "entre the stringmunvar\n"
          ],
          "name": "stdout"
        },
        {
          "output_type": "execute_result",
          "data": {
            "text/plain": [
              "'false'"
            ]
          },
          "metadata": {
            "tags": []
          },
          "execution_count": 10
        }
      ]
    },
    {
      "cell_type": "code",
      "metadata": {
        "id": "qZiUrK0KXEAP",
        "colab_type": "code",
        "outputId": "2d3852a4-fa65-414c-9d8e-15c6bcfc151e",
        "colab": {
          "base_uri": "https://localhost:8080/",
          "height": 51
        }
      },
      "source": [
        "# function to print uppercase characters \n",
        "# ex: munvar -- MUNVAR\n",
        "# A-Z : 65-90\n",
        "# a-z : 97-122\n",
        "# 0-9 : 48-57\n",
        "# space : 32\n",
        "# ord('A') is used to access the ascii values of a characer or a symbol\n",
        "def fac(n):\n",
        "  for i in range(len(n)):\n",
        "    if ord(n[i])>=65 and ord(n[i])<=90:\n",
        "      print(n[i],end=\" \")\n",
        "  return \n",
        "n=str(input(\"entre the input string\"))\n",
        "fac(n)"
      ],
      "execution_count": 0,
      "outputs": [
        {
          "output_type": "stream",
          "text": [
            "entre the input stringMuNvaR\n",
            "M N R "
          ],
          "name": "stdout"
        }
      ]
    },
    {
      "cell_type": "code",
      "metadata": {
        "id": "c3Xp2wuuZUOV",
        "colab_type": "code",
        "outputId": "4aab873b-5525-4385-fb03-130d9c630fcc",
        "colab": {
          "base_uri": "https://localhost:8080/",
          "height": 51
        }
      },
      "source": [
        "# function to print same count if the count of upper case and  lower case charcters are same \n",
        "def fac(s):\n",
        "  sum1=sum2=sum3=0\n",
        "  for x in range(len(s)):\n",
        "    if ord(s[x])>=65 and ord(s[x])<=90:\n",
        "      sum1=sum1+1\n",
        "    elif ord(s[x])>=97 and ord(s[x])<=122:\n",
        "      sum2=sum2+1\n",
        "    else:\n",
        "      sum3=sum3+1\n",
        "  if sum1==sum2:\n",
        "    return \"same count\"\n",
        "  else:\n",
        "    return \"not equal\"\n",
        "  return\n",
        "n=str(input(\"entre the string\"))\n",
        "fac(n)"
      ],
      "execution_count": 0,
      "outputs": [
        {
          "output_type": "stream",
          "text": [
            "entre the stringmunvAr\n"
          ],
          "name": "stdout"
        },
        {
          "output_type": "execute_result",
          "data": {
            "text/plain": [
              "'not equal'"
            ]
          },
          "metadata": {
            "tags": []
          },
          "execution_count": 15
        }
      ]
    },
    {
      "cell_type": "code",
      "metadata": {
        "id": "W1SXYKw0bDAq",
        "colab_type": "code",
        "outputId": "7f4070d1-4714-44f3-aff3-4d3b5123451f",
        "colab": {
          "base_uri": "https://localhost:8080/",
          "height": 51
        }
      },
      "source": [
        "# extract digits from the given string\n",
        "# input : munvar456\n",
        "# output : 456\n",
        "def fac(n):\n",
        "  for i in range(len(n)):\n",
        "    if ord(n[i])>=48 and ord(n[i])<=57:\n",
        "      print(n[i],end=\" \")\n",
        "  return\n",
        "n=str(input(\"enter the string\"))\n",
        "fac(n)"
      ],
      "execution_count": 0,
      "outputs": [
        {
          "output_type": "stream",
          "text": [
            "enter the stringmunvar456\n",
            "4 5 6 "
          ],
          "name": "stdout"
        }
      ]
    },
    {
      "cell_type": "code",
      "metadata": {
        "id": "oc9vxphgbypg",
        "colab_type": "code",
        "outputId": "63845830-ed93-4bed-da15-0df71d93f4ca",
        "colab": {
          "base_uri": "https://localhost:8080/",
          "height": 51
        }
      },
      "source": [
        "# function to sum the digits of a given string\n",
        "# input : munvar456\n",
        "# output : 15(4+5+6)\n",
        "# we have to use int() function to convert the obtained string digits into pure integers\n",
        "def fac(n):\n",
        "  sum=0\n",
        "  for i in range(len(n)):\n",
        "    if ord(n[i])>=48 and ord(n[i])<=57:\n",
        "      sum=sum+int(n[i])\n",
        "  return sum\n",
        "n=str(input(\"enter the string\"))\n",
        "fac(n)"
      ],
      "execution_count": 0,
      "outputs": [
        {
          "output_type": "stream",
          "text": [
            "enter the stringmunvar567\n"
          ],
          "name": "stdout"
        },
        {
          "output_type": "execute_result",
          "data": {
            "text/plain": [
              "18"
            ]
          },
          "metadata": {
            "tags": []
          },
          "execution_count": 19
        }
      ]
    },
    {
      "cell_type": "code",
      "metadata": {
        "id": "ZbHWr5svccfT",
        "colab_type": "code",
        "outputId": "84619f3a-14de-433c-a389-8cd30338cc88",
        "colab": {
          "base_uri": "https://localhost:8080/",
          "height": 51
        }
      },
      "source": [
        "# function to sum the even digits of a given string\n",
        "# input : munvar456\n",
        "# output : 10(4+6)\n",
        "# we have to use int() function to convert the obtained string digits into pure integers\n",
        "def fac(n):\n",
        "  sum=0\n",
        "  for i in range(len(n)):\n",
        "    if ord(n[i])>=48 and ord(n[i])<=57:\n",
        "      if int(n[i])%2==0:\n",
        "        sum=sum+int(n[i])\n",
        "  return sum\n",
        "n=str(input(\"enter the string\"))\n",
        "fac(n)"
      ],
      "execution_count": 0,
      "outputs": [
        {
          "output_type": "stream",
          "text": [
            "enter the stringmunvar896\n"
          ],
          "name": "stdout"
        },
        {
          "output_type": "execute_result",
          "data": {
            "text/plain": [
              "14"
            ]
          },
          "metadata": {
            "tags": []
          },
          "execution_count": 20
        }
      ]
    },
    {
      "cell_type": "markdown",
      "metadata": {
        "id": "NAFM-QHheQV_",
        "colab_type": "text"
      },
      "source": [
        "# LISTS:\n",
        "- ex: list=[10,12,\"hai\"]"
      ]
    },
    {
      "cell_type": "code",
      "metadata": {
        "id": "I_51sxrmeZrE",
        "colab_type": "code",
        "colab": {}
      },
      "source": [
        "# lists index starts form 0\n",
        "# del list[0] is the command used to delete any index element of an list\n",
        "# len(list) to access the length of a list\n",
        "# list*2 is used for repeating the list two times\n",
        "# 9 in list is used to check whether 9 is present in list or not ,it shows output as true or false\n",
        "# min(),max(),sum() are some of the functions of list\n",
        "# list.append(18) is used to add 18 at the end of list\n",
        "# list.insert(2,64) is used to insert 64 at the index 2 of the list\n",
        "# list.sort(),it sorts the list in ascending order\n",
        "# list.pop() removes the last element of the list\n",
        "# list.pop(i) removes the ith index element of a list\n",
        "# list.count(18) returns how many times 18 value is repeated in a list\n",
        "# list.extend(list2) merges the list2 into list\n",
        "# list.reverse() reverses the lists\n",
        "# list.remove(123) it removes the 123 value from the list\n"
      ],
      "execution_count": 0,
      "outputs": []
    },
    {
      "cell_type": "code",
      "metadata": {
        "id": "QnL3_hYRhZOB",
        "colab_type": "code",
        "colab": {
          "base_uri": "https://localhost:8080/",
          "height": 34
        },
        "outputId": "307cd7cd-74e7-48d2-85a7-4911f03988c2"
      },
      "source": [
        "# program to search for the data in the list\n",
        "def ss(mn,t):\n",
        "  for i in range(len(mn)):\n",
        "    if t == li[i]:\n",
        "      return i\n",
        "    else:\n",
        "      return \"doesnot exist\"\n",
        "  return\n",
        "li=[12,56,11,34,9]\n",
        "ss(li,45)"
      ],
      "execution_count": 1,
      "outputs": [
        {
          "output_type": "execute_result",
          "data": {
            "text/plain": [
              "'doesnot exist'"
            ]
          },
          "metadata": {
            "tags": []
          },
          "execution_count": 1
        }
      ]
    },
    {
      "cell_type": "code",
      "metadata": {
        "id": "1heZXv5piGik",
        "colab_type": "code",
        "colab": {
          "base_uri": "https://localhost:8080/",
          "height": 34
        },
        "outputId": "398409f9-94f3-4f7a-de7b-2f5954405cda"
      },
      "source": [
        "# search for value in the  duplicatelist\n",
        "def ss(mn,t):\n",
        "  for i in range(len(mn)):\n",
        "    if t == li[i]:\n",
        "      print(i,end=\" \")\n",
        "  return\n",
        "li=[12,56,11,34,9,5,9,4,3,9]\n",
        "ss(li,9)\n"
      ],
      "execution_count": 4,
      "outputs": [
        {
          "output_type": "stream",
          "text": [
            "4 6 9 "
          ],
          "name": "stdout"
        }
      ]
    },
    {
      "cell_type": "code",
      "metadata": {
        "id": "3w2dJqk0iw8T",
        "colab_type": "code",
        "colab": {
          "base_uri": "https://localhost:8080/",
          "height": 68
        },
        "outputId": "053aa58c-58f2-4bca-87ea-cf84a5e2a082"
      },
      "source": [
        "def ss(mn,t):\n",
        "  for i in range(len(mn)):\n",
        "    if t == li[i]:\n",
        "      for x in range(1,i+2):\n",
        "         print(\"!\",end=\" \")\n",
        "      print(\"\\t\")\n",
        "  return\n",
        "li=[12,56,11,34,9,5,9,4,3,9]\n",
        "ss(li,9)"
      ],
      "execution_count": 9,
      "outputs": [
        {
          "output_type": "stream",
          "text": [
            "! ! ! ! ! \t\n",
            "! ! ! ! ! ! ! \t\n",
            "! ! ! ! ! ! ! ! ! ! \t\n"
          ],
          "name": "stdout"
        }
      ]
    },
    {
      "cell_type": "code",
      "metadata": {
        "id": "fbHhZMLPkWLQ",
        "colab_type": "code",
        "colab": {
          "base_uri": "https://localhost:8080/",
          "height": 34
        },
        "outputId": "c725c7f3-0496-410e-fdb4-38579a4ad616"
      },
      "source": [
        "# sum of elements of lists which are multiple of 3 and 5\n",
        "def ss(n):\n",
        "  sum=0\n",
        "  for i in range(len(n)):\n",
        "    if n[i]%3==0 and n[i]%5==0:\n",
        "      sum=sum+n[i]\n",
        "  return sum\n",
        "li=[12,56,11,34,9,5,9,4,3,9]\n",
        "ss(li)\n"
      ],
      "execution_count": 11,
      "outputs": [
        {
          "output_type": "execute_result",
          "data": {
            "text/plain": [
              "0"
            ]
          },
          "metadata": {
            "tags": []
          },
          "execution_count": 11
        }
      ]
    },
    {
      "cell_type": "markdown",
      "metadata": {
        "id": "vPzPnNJvlq7i",
        "colab_type": "text"
      },
      "source": [
        "# NUMBER TO LIST\n",
        "- input as number\n",
        "- output will be list\n"
      ]
    },
    {
      "cell_type": "code",
      "metadata": {
        "id": "MiHnc3kgl02e",
        "colab_type": "code",
        "colab": {
          "base_uri": "https://localhost:8080/",
          "height": 51
        },
        "outputId": "72c28f5c-5fd1-4864-8ec6-812be8acec79"
      },
      "source": [
        "# function to convert the number into list\n",
        "# input: 12345\n",
        "# output : [1,2,3,4,5]\n",
        "def fa(n):\n",
        "  li=[]\n",
        "  while n!=0:\n",
        "    k=n%10\n",
        "    li.append(k)\n",
        "    n=n//10\n",
        "  li.reverse()\n",
        "  return li\n",
        "n=int(input(\"entre the number\"))\n",
        "fa(n)"
      ],
      "execution_count": 12,
      "outputs": [
        {
          "output_type": "stream",
          "text": [
            "entre the number12345\n"
          ],
          "name": "stdout"
        },
        {
          "output_type": "execute_result",
          "data": {
            "text/plain": [
              "[1, 2, 3, 4, 5]"
            ]
          },
          "metadata": {
            "tags": []
          },
          "execution_count": 12
        }
      ]
    },
    {
      "cell_type": "code",
      "metadata": {
        "id": "0qdM5dZimjXJ",
        "colab_type": "code",
        "colab": {
          "base_uri": "https://localhost:8080/",
          "height": 51
        },
        "outputId": "0c3ea670-b3ea-4fd1-e93f-5fa5751d5c7e"
      },
      "source": [
        "# function to count the occurences ofa chracter in a string\n",
        "def fa(n,s):\n",
        "  count=0\n",
        "  for i in range(len(n)):\n",
        "    if s==n[i]:\n",
        "      count=count+1\n",
        "  return count\n",
        "n=str(input(\"entre the string\"))\n",
        "fa(n,'m')"
      ],
      "execution_count": 14,
      "outputs": [
        {
          "output_type": "stream",
          "text": [
            "entre the stringms munvar\n"
          ],
          "name": "stdout"
        },
        {
          "output_type": "execute_result",
          "data": {
            "text/plain": [
              "2"
            ]
          },
          "metadata": {
            "tags": []
          },
          "execution_count": 14
        }
      ]
    },
    {
      "cell_type": "markdown",
      "metadata": {
        "id": "8pMwJl9anP0Y",
        "colab_type": "text"
      },
      "source": [
        "# STRING TO LIST COVERSION\n",
        "- input will be string\n",
        "- output will be a list"
      ]
    },
    {
      "cell_type": "code",
      "metadata": {
        "id": "Km5RgM4VncAr",
        "colab_type": "code",
        "colab": {
          "base_uri": "https://localhost:8080/",
          "height": 51
        },
        "outputId": "ad3c29c9-76c6-4c51-b5fb-a979d14efff0"
      },
      "source": [
        "# \"12345\"->[1,2,3,4,5]\n",
        "def fa(n):\n",
        "  li=[]\n",
        "  for i in range(len(n)):\n",
        "    li.append(n[i])\n",
        "  return li\n",
        "n=str(input(\"entre the string\"))\n",
        "fa(n)"
      ],
      "execution_count": 16,
      "outputs": [
        {
          "output_type": "stream",
          "text": [
            "entre the stringmunvar\n"
          ],
          "name": "stdout"
        },
        {
          "output_type": "execute_result",
          "data": {
            "text/plain": [
              "['m', 'u', 'n', 'v', 'a', 'r']"
            ]
          },
          "metadata": {
            "tags": []
          },
          "execution_count": 16
        }
      ]
    },
    {
      "cell_type": "markdown",
      "metadata": {
        "id": "YS1rNqDZoMX-",
        "colab_type": "text"
      },
      "source": [
        "# SORTING ALGORITHMS\n",
        "- bubble sort\n",
        "- insertion sort\n",
        "- selection sort"
      ]
    },
    {
      "cell_type": "code",
      "metadata": {
        "id": "MV4OkWiHoWji",
        "colab_type": "code",
        "colab": {
          "base_uri": "https://localhost:8080/",
          "height": 34
        },
        "outputId": "42ec0a3b-5a5c-4537-b0ea-926d251ede73"
      },
      "source": [
        "# function to represent bubble sort\n",
        "def fac(li):\n",
        "  for i in range(len(li)-1):\n",
        "    for j in range(len(li)-1):\n",
        "      if li[j]>li[j+1]:\n",
        "        t=li[j]\n",
        "        li[j]=li[j+1]\n",
        "        li[j+1]=t\n",
        "  return li\n",
        "li=[12,45,34,11,8]\n",
        "fac(li)"
      ],
      "execution_count": 18,
      "outputs": [
        {
          "output_type": "execute_result",
          "data": {
            "text/plain": [
              "[8, 11, 12, 34, 45]"
            ]
          },
          "metadata": {
            "tags": []
          },
          "execution_count": 18
        }
      ]
    },
    {
      "cell_type": "markdown",
      "metadata": {
        "id": "O0RnX112puJg",
        "colab_type": "text"
      },
      "source": [
        "# TUPLES\n"
      ]
    },
    {
      "cell_type": "markdown",
      "metadata": {
        "id": "CVzNbbMSp4zS",
        "colab_type": "text"
      },
      "source": [
        "# DICTIONARIES\n",
        "- it works on the concept of set unique data\n",
        "- ex:\n",
        "- d1={\"key\":\"value\"}"
      ]
    },
    {
      "cell_type": "code",
      "metadata": {
        "id": "UOv-uKuoqU0o",
        "colab_type": "code",
        "colab": {}
      },
      "source": [
        "# output of dictionary will be a collection of key value pairs\n",
        "# dl.keys() returns the entire keys of  a dictionary\n",
        "# d1.values() returns the values of a dictionary\n",
        "# d1.items() returns the list of tuples of keys and values"
      ],
      "execution_count": 0,
      "outputs": []
    }
  ]
}