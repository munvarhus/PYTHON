{
  "nbformat": 4,
  "nbformat_minor": 0,
  "metadata": {
    "colab": {
      "name": "DAY 10(31-01-2020).ipynb",
      "provenance": [],
      "collapsed_sections": [],
      "authorship_tag": "ABX9TyM0v+fgMoR9t+vdd1n6JrVT",
      "include_colab_link": true
    },
    "kernelspec": {
      "name": "python3",
      "display_name": "Python 3"
    }
  },
  "cells": [
    {
      "cell_type": "markdown",
      "metadata": {
        "id": "view-in-github",
        "colab_type": "text"
      },
      "source": [
        "<a href=\"https://colab.research.google.com/github/munvarhus/PYTHON/blob/master/DAY_10(31_01_2020).ipynb\" target=\"_parent\"><img src=\"https://colab.research.google.com/assets/colab-badge.svg\" alt=\"Open In Colab\"/></a>"
      ]
    },
    {
      "cell_type": "markdown",
      "metadata": {
        "id": "wr4hUlCbwpRd",
        "colab_type": "text"
      },
      "source": [
        "# loops\n",
        "- while\n",
        "- for"
      ]
    },
    {
      "cell_type": "code",
      "metadata": {
        "id": "JL9uasCNwxLA",
        "colab_type": "code",
        "colab": {
          "base_uri": "https://localhost:8080/",
          "height": 51
        },
        "outputId": "7e6b9ee2-297c-484a-9ca0-02e7307bc2b5"
      },
      "source": [
        "# print numbers from 1 to n\n",
        "n=int(input(\"entre the n value\"))\n",
        "i=1\n",
        "while i<=n:\n",
        "  print(i,end=\" \")\n",
        "  i=i+1\n",
        "\n"
      ],
      "execution_count": 5,
      "outputs": [
        {
          "output_type": "stream",
          "text": [
            "entre the n value10\n",
            "1 2 3 4 5 6 7 8 9 10 "
          ],
          "name": "stdout"
        }
      ]
    },
    {
      "cell_type": "code",
      "metadata": {
        "id": "AysljQh-yWLM",
        "colab_type": "code",
        "colab": {
          "base_uri": "https://localhost:8080/",
          "height": 68
        },
        "outputId": "1323ac65-52f9-4d20-af34-baee3fa7f9ba"
      },
      "source": [
        "#prinr the sum of even numbers\n",
        "n=int(input(\"entre the n value\"))\n",
        "i=1\n",
        "sum=0\n",
        "while i<=n:\n",
        "  if i%2==0:\n",
        "    sum=sum+i\n",
        "    print(i,end=\" \")\n",
        "  i=i+1\n",
        "print(\"\\n\",sum)"
      ],
      "execution_count": 18,
      "outputs": [
        {
          "output_type": "stream",
          "text": [
            "entre the n value10\n",
            "2 4 6 8 10 \n",
            " 30\n"
          ],
          "name": "stdout"
        }
      ]
    },
    {
      "cell_type": "code",
      "metadata": {
        "id": "IQb1-1kl0uiE",
        "colab_type": "code",
        "colab": {
          "base_uri": "https://localhost:8080/",
          "height": 68
        },
        "outputId": "381db61d-fb32-4693-d908-816797871146"
      },
      "source": [
        "# print palindrome\n",
        "n=int(input(\"entre the n value\"))\n",
        "sum=0\n",
        "t=n\n",
        "while n!=0:\n",
        "  k=n%10\n",
        "  sum=sum*10+k\n",
        "  n=n//10\n",
        "print(sum)\n",
        "if sum==t:\n",
        "  print(t,\"is an palindrome\")\n",
        "else:\n",
        "  print(t,\"is not an palindrome\")"
      ],
      "execution_count": 24,
      "outputs": [
        {
          "output_type": "stream",
          "text": [
            "entre the n value123\n",
            "321\n",
            "123 is not an palindrome\n"
          ],
          "name": "stdout"
        }
      ]
    },
    {
      "cell_type": "markdown",
      "metadata": {
        "id": "DlrC-BVS8Ego",
        "colab_type": "text"
      },
      "source": [
        "# FUNCTIONAL PROGRAMMING\n",
        "- simple\n",
        "- easy to understand\n",
        "- better reusability\n",
        "\n",
        "syntax:\n",
        "- def functionname(parameters):\n",
        "\n",
        "     statements\n",
        "     \n",
        "     return\n"
      ]
    },
    {
      "cell_type": "code",
      "metadata": {
        "id": "4ytGnUrP8uSh",
        "colab_type": "code",
        "colab": {
          "base_uri": "https://localhost:8080/",
          "height": 51
        },
        "outputId": "b6f03648-b7a8-4966-e675-a33f671b065c"
      },
      "source": [
        "# print sum of even numbers\n",
        "def even(n):\n",
        "  sum=0\n",
        "  while n!=0:\n",
        "    k=n%10\n",
        "    if k%2==0:\n",
        "      sum=sum+k\n",
        "    n=n//10\n",
        "  return sum\n",
        "n=int(input(\"entre the n value\"))\n",
        "even(n)"
      ],
      "execution_count": 26,
      "outputs": [
        {
          "output_type": "stream",
          "text": [
            "entre the n value1234\n"
          ],
          "name": "stdout"
        },
        {
          "output_type": "execute_result",
          "data": {
            "text/plain": [
              "6"
            ]
          },
          "metadata": {
            "tags": []
          },
          "execution_count": 26
        }
      ]
    },
    {
      "cell_type": "code",
      "metadata": {
        "id": "9i9riBqVBMZA",
        "colab_type": "code",
        "colab": {
          "base_uri": "https://localhost:8080/",
          "height": 51
        },
        "outputId": "5aff314a-8d2b-4ea7-a965-4ba3b6930d08"
      },
      "source": [
        "# print largest digit of given number\n",
        "def  even(n):\n",
        "  s=0\n",
        "  while n!=0:\n",
        "    k=n%10\n",
        "    if s<k:\n",
        "      s=k\n",
        "    n=n//10\n",
        "  return s\n",
        "n=int(input(\"entre the n value\"))\n",
        "even(n)"
      ],
      "execution_count": 29,
      "outputs": [
        {
          "output_type": "stream",
          "text": [
            "entre the n value369842\n"
          ],
          "name": "stdout"
        },
        {
          "output_type": "execute_result",
          "data": {
            "text/plain": [
              "9"
            ]
          },
          "metadata": {
            "tags": []
          },
          "execution_count": 29
        }
      ]
    },
    {
      "cell_type": "markdown",
      "metadata": {
        "id": "0SH-DkfbHYm3",
        "colab_type": "text"
      },
      "source": [
        "# FOR LOOP\n",
        "- syntax\n",
        "\n",
        " for variabe in range(start,stop.step):\n",
        "          statements\n"
      ]
    },
    {
      "cell_type": "code",
      "metadata": {
        "id": "TXSjnOO7HtOq",
        "colab_type": "code",
        "colab": {
          "base_uri": "https://localhost:8080/",
          "height": 68
        },
        "outputId": "a329f47e-2069-4dd7-8394-be013a2b2b9c"
      },
      "source": [
        "# print th numbers between limits\n",
        "n=int(input(\"entre the n value\"))\n",
        "m=int(input(\"entre th m value\"))\n",
        "for x in range(n,m+1):\n",
        "  print(x,end=\" \")"
      ],
      "execution_count": 32,
      "outputs": [
        {
          "output_type": "stream",
          "text": [
            "entre the n value11\n",
            "entre th m value25\n",
            "11 12 13 14 15 16 17 18 19 20 21 22 23 24 25 "
          ],
          "name": "stdout"
        }
      ]
    },
    {
      "cell_type": "code",
      "metadata": {
        "id": "46wFcx8MJ3qD",
        "colab_type": "code",
        "colab": {
          "base_uri": "https://localhost:8080/",
          "height": 68
        },
        "outputId": "9fa4cee6-defd-4389-8ee5-efaa52078263"
      },
      "source": [
        "# \n",
        "def fun(n,m):\n",
        "  for x in range(n,m+1,4):\n",
        "    print(x,end=\" \")\n",
        "n=int(input(\"entre the n value\"))\n",
        "m=int(input(\"entre th m value\"))\n",
        "fun(n,m)\n"
      ],
      "execution_count": 37,
      "outputs": [
        {
          "output_type": "stream",
          "text": [
            "entre the n value500\n",
            "entre th m value520\n",
            "500 504 508 512 516 520 "
          ],
          "name": "stdout"
        }
      ]
    },
    {
      "cell_type": "markdown",
      "metadata": {
        "id": "JwuY0ce0Mc9S",
        "colab_type": "text"
      },
      "source": [
        "# COLLECTION TYPES\n",
        "- tuples\n",
        "- list\n",
        "- dictionaries\n"
      ]
    },
    {
      "cell_type": "markdown",
      "metadata": {
        "id": "JA9LcimfMnov",
        "colab_type": "text"
      },
      "source": [
        "# LIST\n",
        "- one of the data structure in python\n",
        "- data structure means to store, sort and search options\n",
        "- it is  one common data in python ,the items of list seperated by comma and enclosed by square brackets\n",
        "- list was IMMUTABLE (i.e., values can change)\n",
        "- ex:\n",
        "- list1=[1,2,3,4,5]\n",
        "- list2=[\"jntua\",\"hai\"]"
      ]
    },
    {
      "cell_type": "code",
      "metadata": {
        "id": "GPIMBMlzNbm_",
        "colab_type": "code",
        "colab": {
          "base_uri": "https://localhost:8080/",
          "height": 34
        },
        "outputId": "3c0e1ba0-bbab-4c0a-a8c5-c32fd3eae731"
      },
      "source": [
        "list=[1,4,5,6,7]\n",
        "print(list)"
      ],
      "execution_count": 38,
      "outputs": [
        {
          "output_type": "stream",
          "text": [
            "[1, 4, 5, 6, 7]\n"
          ],
          "name": "stdout"
        }
      ]
    },
    {
      "cell_type": "markdown",
      "metadata": {
        "id": "iCrO8prBONsg",
        "colab_type": "text"
      },
      "source": [
        "# list indexes are two types:\n",
        "-  +ve indexes starts from  left to right (0 to n)\n",
        "- -ve indexes starts from right to left with values -1 t0 -n"
      ]
    },
    {
      "cell_type": "code",
      "metadata": {
        "id": "1NVHzhX7PEci",
        "colab_type": "code",
        "colab": {
          "base_uri": "https://localhost:8080/",
          "height": 68
        },
        "outputId": "7f91dfc2-9f15-4f6c-d930-d654816fcb9f"
      },
      "source": [
        "list=[2,5,6,7]\n",
        "print(list[1:3]) # its last index is discarded\n",
        "print(list[-3:-1]) # its 1st index is discarded\n",
        "print(list[::2]) # it displays data with  i+2 increment\n"
      ],
      "execution_count": 43,
      "outputs": [
        {
          "output_type": "stream",
          "text": [
            "[5, 6]\n",
            "[5, 6]\n",
            "[2, 6]\n"
          ],
          "name": "stdout"
        }
      ]
    },
    {
      "cell_type": "code",
      "metadata": {
        "id": "tUsCbo5PaZLV",
        "colab_type": "code",
        "colab": {
          "base_uri": "https://localhost:8080/",
          "height": 68
        },
        "outputId": "96760d2f-8ece-4ce8-b6d5-0d1bfe441954"
      },
      "source": [
        "# update list\n",
        "li=[\"hai\",4,'hello']\n",
        "print(li)\n",
        "li[1]=\"bye\"\n",
        "print(li)\n",
        "del li[1]\n",
        "print(li)"
      ],
      "execution_count": 46,
      "outputs": [
        {
          "output_type": "stream",
          "text": [
            "['hai', 4, 'hello']\n",
            "['hai', 'bye', 'hello']\n",
            "['hai', 'hello']\n"
          ],
          "name": "stdout"
        }
      ]
    },
    {
      "cell_type": "code",
      "metadata": {
        "id": "L2_-VhJ4cIrb",
        "colab_type": "code",
        "colab": {
          "base_uri": "https://localhost:8080/",
          "height": 68
        },
        "outputId": "f658a820-057d-4be4-e36d-4e13826f866c"
      },
      "source": [
        "# basic list functions\n",
        "li=[1,2,3,4,5]\n",
        "print(len(li))\n",
        "print(li*2)# it repeats the list two times\n",
        "print(6 in li) # it cheks whether 4 is present in list or not amd returns the true or false\n"
      ],
      "execution_count": 48,
      "outputs": [
        {
          "output_type": "stream",
          "text": [
            "5\n",
            "[1, 2, 3, 4, 5, 1, 2, 3, 4, 5]\n",
            "False\n"
          ],
          "name": "stdout"
        }
      ]
    },
    {
      "cell_type": "markdown",
      "metadata": {
        "id": "OOhv_nM0c-2i",
        "colab_type": "text"
      },
      "source": [
        "# list functions\n",
        "- max\n",
        "- min\n",
        "- sum\n",
        "- append\n",
        "- insert\n",
        "- count\n",
        "- index\n",
        "- sort\n",
        "- pop"
      ]
    },
    {
      "cell_type": "code",
      "metadata": {
        "id": "MjFJz-UQdVN-",
        "colab_type": "code",
        "colab": {
          "base_uri": "https://localhost:8080/",
          "height": 170
        },
        "outputId": "76622803-2a35-4963-c7c1-b5c185e2e9e6"
      },
      "source": [
        "m=[5,8,3,9,10,10]\n",
        "print(type(m))\n",
        "print(max(m))\n",
        "print(min(m))\n",
        "# print(sum(m))  python 3 note book  is suitable for the operation of sum\n",
        "# print(sum(m)//len(m)) python 3 note book is suitable for the operation of sum\n",
        "m.append(56)\n",
        "print(m)\n",
        "m.insert(2,67) # at index 2 value of 67 is added\n",
        "print(m)\n",
        "m.count(10) # it counts the no of times 10 is repeated\n",
        "print(m.index(10)) # it says about the index of the elememnt in list\n",
        "m.sort()\n",
        "print(m)\n",
        "m.pop() #  it deletes the last index value element\n",
        "print(m)\n",
        "m.pop(5)\n",
        "print(m)"
      ],
      "execution_count": 70,
      "outputs": [
        {
          "output_type": "stream",
          "text": [
            "<class 'list'>\n",
            "10\n",
            "3\n",
            "[5, 8, 3, 9, 10, 10, 56]\n",
            "[5, 8, 67, 3, 9, 10, 10, 56]\n",
            "5\n",
            "[3, 5, 8, 9, 10, 10, 56, 67]\n",
            "[3, 5, 8, 9, 10, 10, 56]\n",
            "[3, 5, 8, 9, 10, 56]\n"
          ],
          "name": "stdout"
        }
      ]
    },
    {
      "cell_type": "code",
      "metadata": {
        "id": "MI3-TT7Nh6dm",
        "colab_type": "code",
        "colab": {
          "base_uri": "https://localhost:8080/",
          "height": 51
        },
        "outputId": "8973f7fa-82a0-4211-9138-be270afefa8b"
      },
      "source": [
        "# using functions  return large number from the list\n",
        "def largenumber(li):\n",
        "  li.sort()\n",
        "  return li[-1]\n",
        "def genericlarge(li,n):\n",
        "  li.sort()\n",
        "  return li[-n]\n",
        "li=[34,12,67,45]\n",
        "print(largenumber(li))\n",
        "print(genericlarge(li,3))"
      ],
      "execution_count": 75,
      "outputs": [
        {
          "output_type": "stream",
          "text": [
            "67\n",
            "34\n"
          ],
          "name": "stdout"
        }
      ]
    },
    {
      "cell_type": "code",
      "metadata": {
        "id": "9zfE81scjnmz",
        "colab_type": "code",
        "colab": {
          "base_uri": "https://localhost:8080/",
          "height": 51
        },
        "outputId": "71ffffe8-1058-43c2-cc28-033564feb07d"
      },
      "source": [
        "# using functions  return small number from the list\n",
        "def smallnumber(li):\n",
        "  li.sort()\n",
        "  return li[0]\n",
        "def genericsmall(li,n):\n",
        "  li.sort()\n",
        "  return li[n-1]\n",
        "li=[34,12,67,45]\n",
        "print(smallnumber(li))\n",
        "print(genericsmall(li,3))"
      ],
      "execution_count": 77,
      "outputs": [
        {
          "output_type": "stream",
          "text": [
            "12\n",
            "45\n"
          ],
          "name": "stdout"
        }
      ]
    }
  ]
}